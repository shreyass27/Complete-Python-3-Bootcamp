{
 "metadata": {
  "language_info": {
   "codemirror_mode": {
    "name": "ipython",
    "version": 3
   },
   "file_extension": ".py",
   "mimetype": "text/x-python",
   "name": "python",
   "nbconvert_exporter": "python",
   "pygments_lexer": "ipython3",
   "version": "3.9.0-final"
  },
  "orig_nbformat": 2,
  "kernelspec": {
   "name": "python3",
   "display_name": "Python 3"
  }
 },
 "nbformat": 4,
 "nbformat_minor": 2,
 "cells": [
  {
   "cell_type": "code",
   "execution_count": 12,
   "metadata": {},
   "outputs": [],
   "source": [
    "import random\n",
    "\n",
    "suits = ('Hearts', 'Diamonds', 'Spades', 'Clubs')\n",
    "ranks = ('Two', 'Three', 'Four', 'Five', 'Six', 'Seven', 'Eight', 'Nine', 'Ten', 'Jack', 'Queen', 'King', 'Ace')\n",
    "values = {'Two':2, 'Three':3, 'Four':4, 'Five':5, 'Six':6, 'Seven':7, 'Eight':8, \n",
    "            'Nine':9, 'Ten':10, 'Jack':11, 'Queen':12, 'King':13, 'Ace':14}\n",
    "\n",
    "class Card:\n",
    "    def __init__(self, suit, rank):\n",
    "        self.suit = suit\n",
    "        self.rank = rank\n",
    "        self.value = values[rank]\n",
    "    def __str__(self):\n",
    "        return f\"{self.rank} of {self.suit}\""
   ]
  },
  {
   "cell_type": "code",
   "execution_count": 13,
   "metadata": {},
   "outputs": [],
   "source": [
    "class Deck:\n",
    "\n",
    "    def __init__(self):\n",
    "        self.all_card = []\n",
    "\n",
    "        for suit in suits:\n",
    "            for rank in ranks:\n",
    "                new_card = Card(suit, rank)\n",
    "\n",
    "                self.all_card.append(new_card)\n",
    "    \n",
    "    def shuffle(self):\n",
    "        random.shuffle(self.all_card)\n",
    "    \n",
    "    def deal_one(self):\n",
    "        return self.all_card.pop()"
   ]
  },
  {
   "cell_type": "code",
   "execution_count": 14,
   "metadata": {},
   "outputs": [],
   "source": [
    "class Player:\n",
    "    def __init__(self, name):\n",
    "        self.name = name\n",
    "        self.all_cards = []\n",
    "    \n",
    "    def remove_one(self):\n",
    "        return self.all_cards.pop(0)\n",
    "\n",
    "    def add_card(self, new_cards):\n",
    "        if type(new_cards) == type([]):\n",
    "            self.all_cards.extend(new_cards)\n",
    "        else:\n",
    "            self.all_cards.append(new_cards)\n",
    "\n",
    "    def __str__(self):\n",
    "        return f\"Player {self.name} has {len(self.all_cards)}\""
   ]
  },
  {
   "cell_type": "code",
   "execution_count": 15,
   "metadata": {},
   "outputs": [],
   "source": [
    "class WarGame:\n",
    "\n",
    "    def __init__(self):\n",
    "        self.card_deck = Deck()\n",
    "        self.card_deck.shuffle()\n",
    "\n",
    "        self.player_one = Player('One')\n",
    "        self.player_two = Player('two')\n",
    "        \n",
    "        for x in range(0, 26):\n",
    "            self.player_one.add_card(self.card_deck.deal_one())\n",
    "            self.player_two.add_card(self.card_deck.deal_one())\n",
    "            \n",
    "        self.start_game()\n",
    "    \n",
    "    def start_game(self):\n",
    "        round_num = 1\n",
    "        game_on = True \n",
    "\n",
    "        while game_on:\n",
    "            print(f\"Round {round_num}\")\n",
    "\n",
    "            if len(self.player_one.all_cards) == 0:\n",
    "                print('Player One out of cards! Player Two wins!')\n",
    "                game_on = False\n",
    "                break\n",
    "\n",
    "            if len(self.player_two.all_cards) == 0:\n",
    "                print('Player Two out of cards! Player One wins!')\n",
    "                game_on = False\n",
    "                break\n",
    "\n",
    "            player_one_cards = []\n",
    "            player_one_cards.append(self.player_one.remove_one())\n",
    "            player_two_cards = []\n",
    "            player_two_cards.append(self.player_two.remove_one())\n",
    "\n",
    "            at_war = True\n",
    "\n",
    "            while at_war:\n",
    "\n",
    "                if player_one_cards[-1].value > player_two_cards[-1].value:\n",
    "                    self.player_one.add_card(player_one_cards)\n",
    "                    self.player_one.add_card(player_two_cards)\n",
    "                    at_war = False\n",
    "\n",
    "                elif player_one_cards[-1].value < player_two_cards[-1].value:\n",
    "                    self.player_two.add_card(player_one_cards)\n",
    "                    self.player_two.add_card(player_two_cards)\n",
    "                    at_war = False\n",
    "                else:\n",
    "                    print('THIS IS WARRRRRR!')\n",
    "\n",
    "                    if len(self.player_one.all_cards) < 5:\n",
    "                        print('Player One does not have enough cards for War')\n",
    "                        print('Player One out of cards for Warrr! Player Two wins!')\n",
    "                        game_on = False\n",
    "                        at_war = False\n",
    "                        break\n",
    "\n",
    "                    elif len(self.player_two.all_cards) < 5:\n",
    "                        print('Player Two does not have enough cards for War')\n",
    "                        print('Player Two out of cards for Warrr! Player One wins!')\n",
    "                        game_on = False\n",
    "                        at_war = False\n",
    "                        break\n",
    "                    else:\n",
    "                        for num in range(5):\n",
    "                            player_one_cards.append(self.player_one.remove_one())\n",
    "                            player_two_cards.append(self.player_two.remove_one())\n",
    "\n",
    "\n",
    "            round_num += 1"
   ]
  },
  {
   "cell_type": "code",
   "execution_count": 20,
   "metadata": {},
   "outputs": [
    {
     "output_type": "stream",
     "name": "stdout",
     "text": [
      "Round 1\nRound 2\nRound 3\nRound 4\nRound 5\nRound 6\nRound 7\nRound 8\nRound 9\nRound 10\nRound 11\nRound 12\nRound 13\nRound 14\nRound 15\nRound 16\nRound 17\nRound 18\nRound 19\nRound 20\nRound 21\nRound 22\nRound 23\nRound 24\nRound 25\nRound 26\nRound 27\nRound 28\nRound 29\nRound 30\nRound 31\nRound 32\nRound 33\nRound 34\nRound 35\nRound 36\nRound 37\nRound 38\nRound 39\nRound 40\nRound 41\nRound 42\nRound 43\nRound 44\nRound 45\nRound 46\nRound 47\nRound 48\nRound 49\nRound 50\nRound 51\nRound 52\nRound 53\nRound 54\nRound 55\nRound 56\nRound 57\nRound 58\nRound 59\nRound 60\nRound 61\nRound 62\nRound 63\nRound 64\nRound 65\nRound 66\nRound 67\nRound 68\nRound 69\nRound 70\nRound 71\nRound 72\nRound 73\nRound 74\nRound 75\nRound 76\nRound 77\nRound 78\nRound 79\nRound 80\nRound 81\nRound 82\nRound 83\nRound 84\nRound 85\nRound 86\nRound 87\nRound 88\nRound 89\nRound 90\nRound 91\nRound 92\nRound 93\nRound 94\nRound 95\nRound 96\nRound 97\nRound 98\nRound 99\nRound 100\nRound 101\nRound 102\nRound 103\nRound 104\nRound 105\nRound 106\nRound 107\nRound 108\nRound 109\nRound 110\nRound 111\nRound 112\nRound 113\nRound 114\nRound 115\nRound 116\nRound 117\nRound 118\nRound 119\nRound 120\nRound 121\nRound 122\nRound 123\nRound 124\nRound 125\nRound 126\nRound 127\nRound 128\nRound 129\nRound 130\nRound 131\nRound 132\nRound 133\nRound 134\nRound 135\nRound 136\nRound 137\nRound 138\nRound 139\nRound 140\nRound 141\nRound 142\nRound 143\nRound 144\nTHIS IS WARRRRRR!\nRound 145\nRound 146\nRound 147\nRound 148\nRound 149\nRound 150\nRound 151\nRound 152\nRound 153\nRound 154\nTHIS IS WARRRRRR!\nRound 155\nRound 156\nRound 157\nTHIS IS WARRRRRR!\nRound 158\nRound 159\nRound 160\nRound 161\nRound 162\nRound 163\nRound 164\nRound 165\nRound 166\nRound 167\nRound 168\nRound 169\nRound 170\nRound 171\nRound 172\nRound 173\nRound 174\nRound 175\nTHIS IS WARRRRRR!\nRound 176\nRound 177\nRound 178\nRound 179\nRound 180\nRound 181\nRound 182\nTHIS IS WARRRRRR!\nTHIS IS WARRRRRR!\nRound 183\nRound 184\nRound 185\nRound 186\nRound 187\nRound 188\nRound 189\nRound 190\nRound 191\nRound 192\nRound 193\nRound 194\nRound 195\nRound 196\nRound 197\nRound 198\nRound 199\nRound 200\nRound 201\nRound 202\nRound 203\nRound 204\nRound 205\nRound 206\nRound 207\nRound 208\nRound 209\nRound 210\nRound 211\nRound 212\nTHIS IS WARRRRRR!\nPlayer One does not have enough cards for War\nPlayer One out of cards for Warrr! Player Two wins!\n"
     ]
    }
   ],
   "source": [
    "new_game = WarGame()"
   ]
  },
  {
   "cell_type": "code",
   "execution_count": null,
   "metadata": {},
   "outputs": [],
   "source": []
  }
 ]
}
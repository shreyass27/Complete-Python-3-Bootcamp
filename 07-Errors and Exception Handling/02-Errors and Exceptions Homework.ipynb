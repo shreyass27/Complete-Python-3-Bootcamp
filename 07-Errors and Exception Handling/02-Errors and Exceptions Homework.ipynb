{
 "cells": [
  {
   "cell_type": "markdown",
   "metadata": {},
   "source": [
    "___\n",
    "\n",
    "<a href='https://www.udemy.com/user/joseportilla/'><img src='../Pierian_Data_Logo.png'/></a>\n",
    "___\n",
    "<center><em>Content Copyright by Pierian Data</em></center>"
   ]
  },
  {
   "cell_type": "markdown",
   "metadata": {},
   "source": [
    "# Errors and Exceptions Homework"
   ]
  },
  {
   "cell_type": "markdown",
   "metadata": {},
   "source": [
    "### Problem 1\n",
    "Handle the exception thrown by the code below by using <code>try</code> and <code>except</code> blocks."
   ]
  },
  {
   "cell_type": "code",
   "execution_count": 1,
   "metadata": {},
   "outputs": [
    {
     "output_type": "stream",
     "name": "stdout",
     "text": [
      "Param should be a number\nParam should be a number\nParam should be a number\n"
     ]
    }
   ],
   "source": [
    "for i in ['a','b','c']:\n",
    "    try: \n",
    "        print(i**2)\n",
    "    except:\n",
    "        print('Param should be a number')"
   ]
  },
  {
   "cell_type": "markdown",
   "metadata": {},
   "source": [
    "### Problem 2\n",
    "Handle the exception thrown by the code below by using <code>try</code> and <code>except</code> blocks. Then use a <code>finally</code> block to print 'All Done.'"
   ]
  },
  {
   "cell_type": "code",
   "execution_count": 6,
   "metadata": {},
   "outputs": [
    {
     "output_type": "stream",
     "name": "stdout",
     "text": [
      "Some Error occured\nAll Done\n"
     ]
    }
   ],
   "source": [
    "try: \n",
    "    x = 5\n",
    "    y = '0'\n",
    "\n",
    "    z = x/y\n",
    "except ZeroDivisionError:\n",
    "   print('That was a zero division error')\n",
    "except:\n",
    "    print('Some Error occured')\n",
    "finally:\n",
    "    print('All Done')"
   ]
  },
  {
   "cell_type": "markdown",
   "metadata": {},
   "source": [
    "### Problem 3\n",
    "Write a function that asks for an integer and prints the square of it. Use a <code>while</code> loop with a <code>try</code>, <code>except</code>, <code>else</code> block to account for incorrect inputs."
   ]
  },
  {
   "cell_type": "code",
   "execution_count": 8,
   "metadata": {
    "collapsed": true
   },
   "outputs": [],
   "source": [
    "def ask():\n",
    "    # number = 0\n",
    "    while True:\n",
    "        try:\n",
    "            number = int(input('Please enter an integer'))\n",
    "        except:\n",
    "            print('Invalid Integer Please try Again')\n",
    "            continue\n",
    "        else:\n",
    "            print(f\"Number square is {number ** 2}\")\n",
    "            break\n"
   ]
  },
  {
   "cell_type": "code",
   "execution_count": 9,
   "metadata": {},
   "outputs": [
    {
     "output_type": "stream",
     "name": "stdout",
     "text": [
      "Invalid Integer Please try Again\n",
      "Invalid Integer Please try Again\n",
      "Number square is 25\n"
     ]
    }
   ],
   "source": [
    "ask()"
   ]
  },
  {
   "cell_type": "markdown",
   "metadata": {},
   "source": [
    "# Great Job!"
   ]
  }
 ],
 "metadata": {
  "kernelspec": {
   "display_name": "Python 3",
   "language": "python",
   "name": "python3"
  },
  "language_info": {
   "codemirror_mode": {
    "name": "ipython",
    "version": 3
   },
   "file_extension": ".py",
   "mimetype": "text/x-python",
   "name": "python",
   "nbconvert_exporter": "python",
   "pygments_lexer": "ipython3",
   "version": "3.9.0-final"
  }
 },
 "nbformat": 4,
 "nbformat_minor": 1
}